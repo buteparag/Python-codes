{
  "nbformat": 4,
  "nbformat_minor": 0,
  "metadata": {
    "colab": {
      "provenance": []
    },
    "kernelspec": {
      "name": "python3",
      "display_name": "Python 3"
    },
    "language_info": {
      "name": "python"
    }
  },
  "cells": [
    {
      "cell_type": "code",
      "source": [
        "import numpy as np #Array constructor from numpy module"
      ],
      "metadata": {
        "id": "pxWUXs4bJhuG"
      },
      "execution_count": 1,
      "outputs": []
    },
    {
      "cell_type": "code",
      "source": [
        "a=np.array([1,2,3,4,5]) #modulename.functionname(np.array)\n",
        "print(a)"
      ],
      "metadata": {
        "colab": {
          "base_uri": "https://localhost:8080/"
        },
        "id": "56T5p3p5zuZq",
        "outputId": "c305a5cf-a07d-45b8-f4e6-9ede8415a4f2"
      },
      "execution_count": 2,
      "outputs": [
        {
          "output_type": "stream",
          "name": "stdout",
          "text": [
            "[1 2 3 4 5]\n"
          ]
        }
      ]
    },
    {
      "cell_type": "code",
      "source": [
        "b=np.array([[1,2,3],[4,5,6],[7,8,9]])\n",
        "print(b)"
      ],
      "metadata": {
        "colab": {
          "base_uri": "https://localhost:8080/"
        },
        "id": "eS4br-BQ31QG",
        "outputId": "4e9d0cbe-9961-4530-b9b3-75f65dbcc2c6"
      },
      "execution_count": 3,
      "outputs": [
        {
          "output_type": "stream",
          "name": "stdout",
          "text": [
            "[[1 2 3]\n",
            " [4 5 6]\n",
            " [7 8 9]]\n"
          ]
        }
      ]
    },
    {
      "cell_type": "code",
      "source": [
        "print(a[0])"
      ],
      "metadata": {
        "colab": {
          "base_uri": "https://localhost:8080/"
        },
        "id": "rjgbumbMUdt-",
        "outputId": "bd52a7ff-129e-47d9-fb49-a83a2fa7b6fa"
      },
      "execution_count": 4,
      "outputs": [
        {
          "output_type": "stream",
          "name": "stdout",
          "text": [
            "1\n"
          ]
        }
      ]
    },
    {
      "cell_type": "markdown",
      "source": [
        "Properties of Numpy Array\n",
        "\n",
        "1.Shape(.shape)\n",
        "\n",
        "2.ndim(.ndim) gives dimension of array\n",
        "\n",
        "3.dtype(.dtype) gives data type of array\n",
        "\n",
        "4.size(.size) gives you the total number of elements in array.\n",
        "\n",
        "5.itemsize(.itemsize) gives you memory allocated to each element."
      ],
      "metadata": {
        "id": "OyakUvYy9hFR"
      }
    },
    {
      "cell_type": "code",
      "source": [
        "print(\"The shape of 1D Array is: \",a.shape)\n",
        "print(\"The shape of 2D array is :\",b.shape)"
      ],
      "metadata": {
        "colab": {
          "base_uri": "https://localhost:8080/"
        },
        "id": "W_mNQqaq9QeB",
        "outputId": "f17635e8-1ad0-446b-f3a4-a47b4c19a52e"
      },
      "execution_count": 6,
      "outputs": [
        {
          "output_type": "stream",
          "name": "stdout",
          "text": [
            "The shape of 1D Array is:  (5,)\n",
            "The shape of 2D array is : (3, 3)\n"
          ]
        }
      ]
    },
    {
      "cell_type": "code",
      "source": [
        "print(\"The dimension of 1D Array is: \",a.ndim)\n",
        "print(\"The dimension of 2D Array is: \",b.ndim)"
      ],
      "metadata": {
        "colab": {
          "base_uri": "https://localhost:8080/"
        },
        "id": "bCSSkoPb-rac",
        "outputId": "dae2942e-884e-427f-87cb-e83b576968e5"
      },
      "execution_count": 7,
      "outputs": [
        {
          "output_type": "stream",
          "name": "stdout",
          "text": [
            "The dimension of 1D Array is:  1\n",
            "The dimension of 2D Array is:  2\n"
          ]
        }
      ]
    },
    {
      "cell_type": "code",
      "source": [
        "print(\"The datatype of a array: \",a.dtype)\n",
        "print(\"The datatype of b array: \",b.dtype)"
      ],
      "metadata": {
        "colab": {
          "base_uri": "https://localhost:8080/"
        },
        "id": "p4AnPgJO_cVv",
        "outputId": "90724047-5081-47a8-aa2e-8d08a4b0f95d"
      },
      "execution_count": 8,
      "outputs": [
        {
          "output_type": "stream",
          "name": "stdout",
          "text": [
            "The datatype of a array:  int64\n",
            "The datatype of b array:  int64\n"
          ]
        }
      ]
    },
    {
      "cell_type": "code",
      "source": [
        "print(\"The total number of elements i.e. size if array a is: \",a.size)\n",
        "print(\"The total number of elements i.e. size if array b is: \",b.size)"
      ],
      "metadata": {
        "colab": {
          "base_uri": "https://localhost:8080/"
        },
        "id": "ukP9rgBwGJAr",
        "outputId": "d2d20987-4fff-448e-a948-66cbbe499c96"
      },
      "execution_count": 9,
      "outputs": [
        {
          "output_type": "stream",
          "name": "stdout",
          "text": [
            "The total number of elements i.e. size if array a is:  5\n",
            "The total number of elements i.e. size if array b is:  9\n"
          ]
        }
      ]
    },
    {
      "cell_type": "code",
      "source": [
        "print(\"Itemsize of elements in array a: \",a.itemsize)\n",
        "print(\"Itemsize of elements in array b: \",b.itemsize)"
      ],
      "metadata": {
        "colab": {
          "base_uri": "https://localhost:8080/"
        },
        "id": "g3ZTlNiyHERq",
        "outputId": "85e026ec-05ee-4af2-9bfa-076305ce46cb"
      },
      "execution_count": 10,
      "outputs": [
        {
          "output_type": "stream",
          "name": "stdout",
          "text": [
            "Itemsize of elements in array a:  8\n",
            "Itemsize of elements in array b:  8\n"
          ]
        }
      ]
    },
    {
      "cell_type": "code",
      "source": [
        "p=np.array([1,2,3],float)\n",
        "p"
      ],
      "metadata": {
        "colab": {
          "base_uri": "https://localhost:8080/"
        },
        "id": "bePBcYRBJS4W",
        "outputId": "8eb08751-a44a-4dad-ae30-2c2945a51d35"
      },
      "execution_count": 11,
      "outputs": [
        {
          "output_type": "execute_result",
          "data": {
            "text/plain": [
              "array([1., 2., 3.])"
            ]
          },
          "metadata": {},
          "execution_count": 11
        }
      ]
    },
    {
      "cell_type": "code",
      "source": [
        "p.tolist()\n",
        "p"
      ],
      "metadata": {
        "colab": {
          "base_uri": "https://localhost:8080/"
        },
        "id": "Xbd1YivnJcK9",
        "outputId": "a7625df6-3bdf-4f5e-c691-6cc99e69af04"
      },
      "execution_count": 12,
      "outputs": [
        {
          "output_type": "execute_result",
          "data": {
            "text/plain": [
              "array([1., 2., 3.])"
            ]
          },
          "metadata": {},
          "execution_count": 12
        }
      ]
    },
    {
      "cell_type": "code",
      "source": [
        "list(p)"
      ],
      "metadata": {
        "colab": {
          "base_uri": "https://localhost:8080/"
        },
        "id": "a5S9DSl8JpG8",
        "outputId": "69aa64a3-264c-46c6-e2f5-4193c86c20c9"
      },
      "execution_count": 13,
      "outputs": [
        {
          "output_type": "execute_result",
          "data": {
            "text/plain": [
              "[1.0, 2.0, 3.0]"
            ]
          },
          "metadata": {},
          "execution_count": 13
        }
      ]
    },
    {
      "cell_type": "code",
      "source": [
        "print(type(a))"
      ],
      "metadata": {
        "colab": {
          "base_uri": "https://localhost:8080/"
        },
        "id": "g622Ovwl0Peh",
        "outputId": "dd5d5c46-8d78-4572-ab4e-f9b41bbfaf78"
      },
      "execution_count": 14,
      "outputs": [
        {
          "output_type": "stream",
          "name": "stdout",
          "text": [
            "<class 'numpy.ndarray'>\n"
          ]
        }
      ]
    },
    {
      "cell_type": "code",
      "source": [
        "d=range(1,3,-2)\n",
        "print(d)"
      ],
      "metadata": {
        "colab": {
          "base_uri": "https://localhost:8080/"
        },
        "id": "tfl5CYvn04eg",
        "outputId": "4f1f2dd0-0089-4f83-90e3-c814b3bd8613"
      },
      "execution_count": 15,
      "outputs": [
        {
          "output_type": "stream",
          "name": "stdout",
          "text": [
            "range(1, 3, -2)\n"
          ]
        }
      ]
    },
    {
      "cell_type": "code",
      "source": [
        "set(range(1,3,-2))"
      ],
      "metadata": {
        "colab": {
          "base_uri": "https://localhost:8080/"
        },
        "id": "9O4EGaI73STV",
        "outputId": "821394cb-a110-479c-c5fb-afae1002d3b0"
      },
      "execution_count": 16,
      "outputs": [
        {
          "output_type": "execute_result",
          "data": {
            "text/plain": [
              "set()"
            ]
          },
          "metadata": {},
          "execution_count": 16
        }
      ]
    },
    {
      "cell_type": "code",
      "source": [
        "range(1,3)"
      ],
      "metadata": {
        "colab": {
          "base_uri": "https://localhost:8080/"
        },
        "id": "r3FJ6LT63Yrk",
        "outputId": "25914f17-0e64-4431-acab-afdf38c07e3c"
      },
      "execution_count": 17,
      "outputs": [
        {
          "output_type": "execute_result",
          "data": {
            "text/plain": [
              "range(1, 3)"
            ]
          },
          "metadata": {},
          "execution_count": 17
        }
      ]
    },
    {
      "cell_type": "code",
      "source": [
        "print(range)"
      ],
      "metadata": {
        "colab": {
          "base_uri": "https://localhost:8080/"
        },
        "id": "yisO9jGu3iA1",
        "outputId": "57a354d4-198e-48ef-998d-37472b466896"
      },
      "execution_count": 18,
      "outputs": [
        {
          "output_type": "stream",
          "name": "stdout",
          "text": [
            "<class 'range'>\n"
          ]
        }
      ]
    },
    {
      "cell_type": "code",
      "source": [],
      "metadata": {
        "id": "12f5Qf1J3nGg"
      },
      "execution_count": null,
      "outputs": []
    }
  ]
}