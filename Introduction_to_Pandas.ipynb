{
  "nbformat": 4,
  "nbformat_minor": 0,
  "metadata": {
    "colab": {
      "provenance": []
    },
    "kernelspec": {
      "name": "python3",
      "display_name": "Python 3"
    },
    "language_info": {
      "name": "python"
    }
  },
  "cells": [
    {
      "cell_type": "markdown",
      "source": [
        "Pandas is open source library. It is mainly used for relational or labelled data.\n",
        "\n",
        "It provides various data structures and operations for manipulating numerical data and time series. This library is built on top of the NumPy library. Pandas is fast and it has high performance & productivity for users."
      ],
      "metadata": {
        "id": "_jaZ0Iop3F6I"
      }
    },
    {
      "cell_type": "markdown",
      "source": [
        "Advantages \n",
        "\n",
        "Fast and efficient for manipulating and analyzing data.\n",
        "\n",
        "Data from different file objects can be loaded.\n",
        "\n",
        "Easy handling of missing data (represented as NaN) in floating point as well as non-floating point data.\n",
        "\n",
        "Size mutability: columns can be inserted and deleted from DataFrame and higher dimensional objects.\n",
        "\n",
        "Data set merging and joining.\n",
        "Flexible reshaping and pivoting of data sets.\n",
        "\n",
        "Provides time-series functionality.\n",
        "\n",
        "Powerful group by functionality for performing split-apply-combine operations on data sets."
      ],
      "metadata": {
        "id": "OFGvsj7x4XM1"
      }
    },
    {
      "cell_type": "markdown",
      "source": [
        "Pandas generally provide two data structures for manipulating data, They are: \n",
        "\n",
        "Series\n",
        "\n",
        "DataFrame"
      ],
      "metadata": {
        "id": "16RBr-Bh4iG8"
      }
    },
    {
      "cell_type": "markdown",
      "source": [
        "Series: \n",
        "\n",
        "Pandas Series is a one-dimensional labeled array capable of holding data of any type (integer, string, float, python objects, etc.).\n",
        "\n",
        "The axis labels are collectively called indexes. Pandas Series is nothing but a column in an excel sheet. \n",
        "\n",
        "Labels need not be unique but must be a hashable type. \n",
        "\n",
        "The object supports both integer and label-based indexing and provides a host of methods for performing operations involving the index.\n",
        "\n"
      ],
      "metadata": {
        "id": "HF98OxcE4q29"
      }
    },
    {
      "cell_type": "markdown",
      "source": [
        "Creating a Series"
      ],
      "metadata": {
        "id": "APa3-XGm5XKw"
      }
    },
    {
      "cell_type": "code",
      "source": [
        "import numpy as np\n",
        "import pandas as pd"
      ],
      "metadata": {
        "id": "6dtzwEC04m_1"
      },
      "execution_count": 1,
      "outputs": []
    },
    {
      "cell_type": "markdown",
      "source": [
        "Creating a series from Lists:"
      ],
      "metadata": {
        "id": "EEk35pv46q-n"
      }
    },
    {
      "cell_type": "code",
      "source": [
        "name=np.array(['I','N','D','I','A'])\n",
        "cname=pd.Series(name)\n",
        "print(cname)"
      ],
      "metadata": {
        "colab": {
          "base_uri": "https://localhost:8080/"
        },
        "id": "OvyvV47j46B6",
        "outputId": "1023972c-5371-4513-baaf-5b48c54abfa9"
      },
      "execution_count": 3,
      "outputs": [
        {
          "output_type": "stream",
          "name": "stdout",
          "text": [
            "0    I\n",
            "1    N\n",
            "2    D\n",
            "3    I\n",
            "4    A\n",
            "dtype: object\n"
          ]
        }
      ]
    },
    {
      "cell_type": "markdown",
      "source": [
        "DataFrame\n",
        "\n",
        "Pandas DataFrame is a two-dimensional size-mutable, potentially heterogeneous tabular data structure with labeled axes (rows and columns). \n",
        "\n",
        "A Data frame is a two-dimensional data structure, i.e., data is aligned in a tabular fashion in rows and columns. \n",
        "\n",
        "Pandas DataFrame consists of three principal components, the data, rows, and columns."
      ],
      "metadata": {
        "id": "gcIYnx2H5ovn"
      }
    },
    {
      "cell_type": "markdown",
      "source": [
        "Creating a DataFrame"
      ],
      "metadata": {
        "id": "um4mPsSL5wLK"
      }
    },
    {
      "cell_type": "code",
      "source": [
        "lst=['Maharashtra','Gujrat','Karnataka','Bihar']\n",
        "df=pd.DataFrame(lst)\n",
        "df"
      ],
      "metadata": {
        "colab": {
          "base_uri": "https://localhost:8080/",
          "height": 175
        },
        "id": "pZlPJZ-L5hVy",
        "outputId": "91fb1246-9f90-4331-9b92-4f637c186f5b"
      },
      "execution_count": 5,
      "outputs": [
        {
          "output_type": "execute_result",
          "data": {
            "text/plain": [
              "             0\n",
              "0  Maharashtra\n",
              "1       Gujrat\n",
              "2    Karnataka\n",
              "3        Bihar"
            ],
            "text/html": [
              "\n",
              "  <div id=\"df-bd646b3f-fbd2-4314-9fa0-5f734734c4f7\">\n",
              "    <div class=\"colab-df-container\">\n",
              "      <div>\n",
              "<style scoped>\n",
              "    .dataframe tbody tr th:only-of-type {\n",
              "        vertical-align: middle;\n",
              "    }\n",
              "\n",
              "    .dataframe tbody tr th {\n",
              "        vertical-align: top;\n",
              "    }\n",
              "\n",
              "    .dataframe thead th {\n",
              "        text-align: right;\n",
              "    }\n",
              "</style>\n",
              "<table border=\"1\" class=\"dataframe\">\n",
              "  <thead>\n",
              "    <tr style=\"text-align: right;\">\n",
              "      <th></th>\n",
              "      <th>0</th>\n",
              "    </tr>\n",
              "  </thead>\n",
              "  <tbody>\n",
              "    <tr>\n",
              "      <th>0</th>\n",
              "      <td>Maharashtra</td>\n",
              "    </tr>\n",
              "    <tr>\n",
              "      <th>1</th>\n",
              "      <td>Gujrat</td>\n",
              "    </tr>\n",
              "    <tr>\n",
              "      <th>2</th>\n",
              "      <td>Karnataka</td>\n",
              "    </tr>\n",
              "    <tr>\n",
              "      <th>3</th>\n",
              "      <td>Bihar</td>\n",
              "    </tr>\n",
              "  </tbody>\n",
              "</table>\n",
              "</div>\n",
              "      <button class=\"colab-df-convert\" onclick=\"convertToInteractive('df-bd646b3f-fbd2-4314-9fa0-5f734734c4f7')\"\n",
              "              title=\"Convert this dataframe to an interactive table.\"\n",
              "              style=\"display:none;\">\n",
              "        \n",
              "  <svg xmlns=\"http://www.w3.org/2000/svg\" height=\"24px\"viewBox=\"0 0 24 24\"\n",
              "       width=\"24px\">\n",
              "    <path d=\"M0 0h24v24H0V0z\" fill=\"none\"/>\n",
              "    <path d=\"M18.56 5.44l.94 2.06.94-2.06 2.06-.94-2.06-.94-.94-2.06-.94 2.06-2.06.94zm-11 1L8.5 8.5l.94-2.06 2.06-.94-2.06-.94L8.5 2.5l-.94 2.06-2.06.94zm10 10l.94 2.06.94-2.06 2.06-.94-2.06-.94-.94-2.06-.94 2.06-2.06.94z\"/><path d=\"M17.41 7.96l-1.37-1.37c-.4-.4-.92-.59-1.43-.59-.52 0-1.04.2-1.43.59L10.3 9.45l-7.72 7.72c-.78.78-.78 2.05 0 2.83L4 21.41c.39.39.9.59 1.41.59.51 0 1.02-.2 1.41-.59l7.78-7.78 2.81-2.81c.8-.78.8-2.07 0-2.86zM5.41 20L4 18.59l7.72-7.72 1.47 1.35L5.41 20z\"/>\n",
              "  </svg>\n",
              "      </button>\n",
              "      \n",
              "  <style>\n",
              "    .colab-df-container {\n",
              "      display:flex;\n",
              "      flex-wrap:wrap;\n",
              "      gap: 12px;\n",
              "    }\n",
              "\n",
              "    .colab-df-convert {\n",
              "      background-color: #E8F0FE;\n",
              "      border: none;\n",
              "      border-radius: 50%;\n",
              "      cursor: pointer;\n",
              "      display: none;\n",
              "      fill: #1967D2;\n",
              "      height: 32px;\n",
              "      padding: 0 0 0 0;\n",
              "      width: 32px;\n",
              "    }\n",
              "\n",
              "    .colab-df-convert:hover {\n",
              "      background-color: #E2EBFA;\n",
              "      box-shadow: 0px 1px 2px rgba(60, 64, 67, 0.3), 0px 1px 3px 1px rgba(60, 64, 67, 0.15);\n",
              "      fill: #174EA6;\n",
              "    }\n",
              "\n",
              "    [theme=dark] .colab-df-convert {\n",
              "      background-color: #3B4455;\n",
              "      fill: #D2E3FC;\n",
              "    }\n",
              "\n",
              "    [theme=dark] .colab-df-convert:hover {\n",
              "      background-color: #434B5C;\n",
              "      box-shadow: 0px 1px 3px 1px rgba(0, 0, 0, 0.15);\n",
              "      filter: drop-shadow(0px 1px 2px rgba(0, 0, 0, 0.3));\n",
              "      fill: #FFFFFF;\n",
              "    }\n",
              "  </style>\n",
              "\n",
              "      <script>\n",
              "        const buttonEl =\n",
              "          document.querySelector('#df-bd646b3f-fbd2-4314-9fa0-5f734734c4f7 button.colab-df-convert');\n",
              "        buttonEl.style.display =\n",
              "          google.colab.kernel.accessAllowed ? 'block' : 'none';\n",
              "\n",
              "        async function convertToInteractive(key) {\n",
              "          const element = document.querySelector('#df-bd646b3f-fbd2-4314-9fa0-5f734734c4f7');\n",
              "          const dataTable =\n",
              "            await google.colab.kernel.invokeFunction('convertToInteractive',\n",
              "                                                     [key], {});\n",
              "          if (!dataTable) return;\n",
              "\n",
              "          const docLinkHtml = 'Like what you see? Visit the ' +\n",
              "            '<a target=\"_blank\" href=https://colab.research.google.com/notebooks/data_table.ipynb>data table notebook</a>'\n",
              "            + ' to learn more about interactive tables.';\n",
              "          element.innerHTML = '';\n",
              "          dataTable['output_type'] = 'display_data';\n",
              "          await google.colab.output.renderOutput(dataTable, element);\n",
              "          const docLink = document.createElement('div');\n",
              "          docLink.innerHTML = docLinkHtml;\n",
              "          element.appendChild(docLink);\n",
              "        }\n",
              "      </script>\n",
              "    </div>\n",
              "  </div>\n",
              "  "
            ]
          },
          "metadata": {},
          "execution_count": 5
        }
      ]
    },
    {
      "cell_type": "markdown",
      "source": [
        "Pandas is used for Data Science:\n",
        "\n",
        "It is built on the top of the NumPy library which means that a lot of structures of NumPy are used or replicated in Pandas. \n",
        "\n",
        "The data produced by Pandas are often used as input for plotting functions of Matplotlib, statistical analysis in SciPy, and machine learning algorithms in Scikit-learn."
      ],
      "metadata": {
        "id": "DUQW3BQL6Tog"
      }
    },
    {
      "cell_type": "code",
      "source": [],
      "metadata": {
        "id": "1fsY_DNJ6Lnf"
      },
      "execution_count": null,
      "outputs": []
    }
  ]
}